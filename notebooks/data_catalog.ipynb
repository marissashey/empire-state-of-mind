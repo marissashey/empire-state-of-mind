{
 "cells": [
  {
   "cell_type": "markdown",
   "id": "9bd56f58-660a-4d8e-8760-56910f6a5231",
   "metadata": {},
   "source": [
    "### data_catalog.ipynb :: mapping out dataset options + verifying access"
   ]
  },
  {
   "cell_type": "code",
   "execution_count": 10,
   "id": "cc2edd9f-5537-490d-a00a-3d74d2d91000",
   "metadata": {},
   "outputs": [],
   "source": [
    "# setup\n",
    "import requests\n",
    "import pandas as pd\n",
    "import json\n",
    "from datetime import datetime, timedelta\n",
    "import folium\n",
    "import plotly.express as px\n",
    "from pathlib import Path\n",
    "\n",
    "import sys\n",
    "sys.path.append('..')"
   ]
  },
  {
   "cell_type": "markdown",
   "id": "092aee1b-d491-47b6-9a0d-4b7b9623cb17",
   "metadata": {},
   "source": [
    "### 1. historical datasets"
   ]
  },
  {
   "cell_type": "code",
   "execution_count": 2,
   "id": "4287bc76-94d2-4024-8ada-bc706f59739e",
   "metadata": {},
   "outputs": [
    {
     "name": "stdout",
     "output_type": "stream",
     "text": [
      "\n",
      "1. MTA SUBWAY HOURLY RIDERSHIP\n",
      "----------------------------------------\n",
      "✓ connected successfully\n",
      "✓ sample record keys: ['transit_timestamp', 'transit_mode', 'station_complex_id', 'station_complex', 'borough', 'payment_method', 'fare_class_category', 'ridership', 'transfers', 'latitude', 'longitude', 'georeference', ':@computed_region_kjdx_g34t', ':@computed_region_yamh_8v7k', ':@computed_region_wbg7_3whc']\n",
      "✓ total records available: 110696370\n",
      "✓ columns: ['transit_timestamp', 'transit_mode', 'station_complex_id', 'station_complex', 'borough', 'payment_method', 'fare_class_category', 'ridership', 'transfers', 'latitude', 'longitude', 'georeference', ':@computed_region_kjdx_g34t', ':@computed_region_yamh_8v7k', ':@computed_region_wbg7_3whc']\n",
      "✓ date range in sample: 2023-06-15T16:00:00.000 to 2023-06-15T19:00:00.000\n"
     ]
    }
   ],
   "source": [
    "# MTA Subway Ridership (2020-2024)\n",
    "print(\"\\n1. MTA SUBWAY HOURLY RIDERSHIP\")\n",
    "print(\"-\" * 40)\n",
    "\n",
    "# dataset: wujg-7c2s\n",
    "mta_ridership_url = \"https://data.ny.gov/resource/wujg-7c2s.json\"\n",
    "\n",
    "try:\n",
    "    # test with small limit first\n",
    "    response = requests.get(mta_ridership_url, params={'$limit': 5})\n",
    "    response.raise_for_status()\n",
    "    \n",
    "    data = response.json()\n",
    "    print(f\"✓ connected successfully\")\n",
    "    print(f\"✓ sample record keys: {list(data[0].keys()) if data else 'no data'}\")\n",
    "    \n",
    "    # now get a count\n",
    "    count_response = requests.get(mta_ridership_url, params={'$select': 'count(*)'})\n",
    "    total_records = count_response.json()[0].get('count', 'unknown')\n",
    "    print(f\"✓ total records available: {total_records}\")\n",
    "    \n",
    "    # show sample data\n",
    "    if data:\n",
    "        df_sample = pd.DataFrame(data)\n",
    "        print(f\"✓ columns: {list(df_sample.columns)}\")\n",
    "        print(f\"✓ date range in sample: {df_sample.iloc[0].get('transit_timestamp', 'no date')} to {df_sample.iloc[-1].get('transit_timestamp', 'no date')}\")\n",
    "        \n",
    "except Exception as e:\n",
    "    print(f\"✗ error: {e}\")"
   ]
  },
  {
   "cell_type": "code",
   "execution_count": 3,
   "id": "55f789e0-ca9b-4fd9-8628-9b5647a622d3",
   "metadata": {},
   "outputs": [
    {
     "name": "stdout",
     "output_type": "stream",
     "text": [
      "\n",
      "2. MTA PERMANENT ART CATALOG\n",
      "----------------------------------------\n",
      "✓ connected successfully\n",
      "✓ sample record keys: ['agency', 'station_name', 'line', 'artist', 'art_title', 'art_date', 'art_material', 'art_description', 'art_image_link']\n",
      "✓ total artworks: 381\n",
      "✓ has location data: False\n"
     ]
    }
   ],
   "source": [
    "# MTA Permanent Art Catalog\n",
    "print(\"\\n2. MTA PERMANENT ART CATALOG\")\n",
    "print(\"-\" * 40)\n",
    "\n",
    "art_url = \"https://data.ny.gov/resource/4y8j-9pkd.json\"\n",
    "\n",
    "try:\n",
    "    response = requests.get(art_url, params={'$limit': 5})\n",
    "    response.raise_for_status()\n",
    "    \n",
    "    art_data = response.json()\n",
    "    print(f\"✓ connected successfully\")\n",
    "    print(f\"✓ sample record keys: {list(art_data[0].keys()) if art_data else 'no data'}\")\n",
    "    \n",
    "    # check total\n",
    "    count_response = requests.get(art_url, params={'$select': 'count(*)'})\n",
    "    total_art = count_response.json()[0].get('count', 'unknown')\n",
    "    print(f\"✓ total artworks: {total_art}\")\n",
    "    \n",
    "    # check if we have location data\n",
    "    if art_data and len(art_data) > 0:\n",
    "        has_coords = 'latitude' in art_data[0] or 'lat' in art_data[0] or 'geocoded_column' in art_data[0]\n",
    "        print(f\"✓ has location data: {has_coords}\")\n",
    "        \n",
    "except Exception as e:\n",
    "    print(f\"✗ error: {e}\")"
   ]
  },
  {
   "cell_type": "code",
   "execution_count": 4,
   "id": "86d87f2d-4291-4b6f-82af-0f3baf077f65",
   "metadata": {},
   "outputs": [
    {
     "name": "stdout",
     "output_type": "stream",
     "text": [
      "\n",
      "3. NASA BLACK MARBLE (NIGHTTIME LIGHTS)\n",
      "----------------------------------------\n",
      "✓ gibs earthdata endpoint accessible\n",
      "✓ response size: 4885196 bytes\n",
      "⚠ tile fetch returned: 404\n"
     ]
    }
   ],
   "source": [
    "# NASA Black Marble (Nighttime Lights)\n",
    "print(\"\\n3. NASA BLACK MARBLE (NIGHTTIME LIGHTS)\")\n",
    "print(\"-\" * 40)\n",
    "\n",
    "# nasa requires registration for api key\n",
    "# test the metadata endpoint first\n",
    "nasa_earthdata_url = \"https://gibs.earthdata.nasa.gov/wmts/epsg4326/best/1.0.0/WMTSCapabilities.xml\"\n",
    "\n",
    "try:\n",
    "    response = requests.get(nasa_earthdata_url, timeout=10)\n",
    "    response.raise_for_status()\n",
    "    \n",
    "    print(f\"✓ gibs earthdata endpoint accessible\")\n",
    "    print(f\"✓ response size: {len(response.content)} bytes\")\n",
    "    \n",
    "    # for actual imagery, you'll need to use wmts tiles\n",
    "    # example tile url for nyc area:\n",
    "    sample_tile = \"https://gibs.earthdata.nasa.gov/wmts/epsg4326/best/VIIRS_Black_Marble/default/2023-01-01/500m/5/9/18.png\"\n",
    "    tile_response = requests.get(sample_tile, timeout=10)\n",
    "    \n",
    "    if tile_response.status_code == 200:\n",
    "        print(f\"✓ can fetch black marble tiles\")\n",
    "        print(f\"✓ tile size: {len(tile_response.content)} bytes\")\n",
    "    else:\n",
    "        print(f\"⚠ tile fetch returned: {tile_response.status_code}\")\n",
    "        \n",
    "except Exception as e:\n",
    "    print(f\"✗ error: {e}\")\n",
    "    print(\"note: you may need nasa earthdata credentials for full access\")"
   ]
  },
  {
   "cell_type": "code",
   "execution_count": 5,
   "id": "2286db1e-8e4f-4c31-bb3d-f4ce2fdffc8c",
   "metadata": {},
   "outputs": [
    {
     "name": "stdout",
     "output_type": "stream",
     "text": [
      "\n",
      "4. NYC PUBLIC EVENTS\n",
      "----------------------------------------\n",
      "✓ connected successfully\n",
      "✓ sample record keys: ['event_id', 'event_name', 'start_date_time', 'end_date_time', 'event_agency', 'event_type', 'event_borough', 'event_location', 'street_closure_type', 'community_board', 'police_precinct']\n",
      "✓ has temporal data\n",
      "✓ has location data\n"
     ]
    }
   ],
   "source": [
    "# NYC Open Data - Events\n",
    "print(\"\\n4. NYC PUBLIC EVENTS\")\n",
    "print(\"-\" * 40)\n",
    "\n",
    "# nyc permitted events\n",
    "events_url = \"https://data.cityofnewyork.us/resource/tvpp-9vvx.json\"\n",
    "\n",
    "try:\n",
    "    response = requests.get(events_url, params={'$limit': 5})\n",
    "    response.raise_for_status()\n",
    "    \n",
    "    events_data = response.json()\n",
    "    print(f\"✓ connected successfully\")\n",
    "    print(f\"✓ sample record keys: {list(events_data[0].keys()) if events_data else 'no data'}\")\n",
    "    \n",
    "    # check date range\n",
    "    if events_data:\n",
    "        df_events = pd.DataFrame(events_data)\n",
    "        if 'event_start_date' in df_events.columns or 'start_date_time' in df_events.columns:\n",
    "            print(f\"✓ has temporal data\")\n",
    "        if 'event_location' in df_events.columns or 'latitude' in df_events.columns:\n",
    "            print(f\"✓ has location data\")\n",
    "            \n",
    "except Exception as e:\n",
    "    print(f\"✗ error: {e}\")"
   ]
  },
  {
   "cell_type": "code",
   "execution_count": 6,
   "id": "ba093ba4-ec62-4882-b55a-4dafc1845555",
   "metadata": {},
   "outputs": [
    {
     "name": "stdout",
     "output_type": "stream",
     "text": [
      "\n",
      "5. NYC NOISE DATA (311 COMPLAINTS)\n",
      "----------------------------------------\n",
      "✓ connected successfully\n",
      "✓ sample complaint types: {'Noise - Residential', 'Noise - Street/Sidewalk'}\n",
      "✓ has location data (lat/lon)\n",
      "✓ noise complaints since 2020: 4244919\n"
     ]
    }
   ],
   "source": [
    "# NYC Noise Monitoring (311 complaints)\n",
    "print(\"\\n5. NYC NOISE DATA (311 COMPLAINTS)\")\n",
    "print(\"-\" * 40)\n",
    "\n",
    "# 311 service requests\n",
    "noise_url = \"https://data.cityofnewyork.us/resource/erm2-nwe9.json\"\n",
    "\n",
    "try:\n",
    "    # filter for noise complaints\n",
    "    params = {\n",
    "        '$limit': 5,\n",
    "        '$where': \"complaint_type LIKE '%Noise%'\",\n",
    "        '$order': 'created_date DESC'\n",
    "    }\n",
    "    \n",
    "    response = requests.get(noise_url, params=params)\n",
    "    response.raise_for_status()\n",
    "    \n",
    "    noise_data = response.json()\n",
    "    print(f\"✓ connected successfully\")\n",
    "    print(f\"✓ sample complaint types: {set([d.get('complaint_type', '') for d in noise_data])}\")\n",
    "    \n",
    "    # check for geo data\n",
    "    if noise_data and 'latitude' in noise_data[0]:\n",
    "        print(f\"✓ has location data (lat/lon)\")\n",
    "    \n",
    "    # get count of noise complaints\n",
    "    count_params = {\n",
    "        '$select': 'count(*)',\n",
    "        '$where': \"complaint_type LIKE '%Noise%' AND created_date > '2020-01-01'\"\n",
    "    }\n",
    "    count_response = requests.get(noise_url, params=count_params)\n",
    "    total_noise = count_response.json()[0].get('count', 'unknown')\n",
    "    print(f\"✓ noise complaints since 2020: {total_noise}\")\n",
    "    \n",
    "except Exception as e:\n",
    "    print(f\"✗ error: {e}\")"
   ]
  },
  {
   "cell_type": "code",
   "execution_count": 7,
   "id": "dff421d0-f6f6-4b36-beb1-34170c2da826",
   "metadata": {},
   "outputs": [
    {
     "name": "stdout",
     "output_type": "stream",
     "text": [
      "\n",
      "6. NYC PARKS & OPEN SPACES\n",
      "----------------------------------------\n",
      "✓ connected successfully\n",
      "✓ total park properties: 2054\n"
     ]
    }
   ],
   "source": [
    "# Cell 7: Test NYC Parks Data\n",
    "print(\"\\n6. NYC PARKS & OPEN SPACES\")\n",
    "print(\"-\" * 40)\n",
    "\n",
    "# parks properties\n",
    "parks_url = \"https://data.cityofnewyork.us/resource/enfh-gkve.json\"\n",
    "\n",
    "try:\n",
    "    response = requests.get(parks_url, params={'$limit': 5})\n",
    "    response.raise_for_status()\n",
    "    \n",
    "    parks_data = response.json()\n",
    "    print(f\"✓ connected successfully\")\n",
    "    \n",
    "    # check for geometry\n",
    "    if parks_data and 'the_geom' in parks_data[0]:\n",
    "        print(f\"✓ has geometry data for mapping\")\n",
    "    \n",
    "    # count\n",
    "    count_response = requests.get(parks_url, params={'$select': 'count(*)'})\n",
    "    total_parks = count_response.json()[0].get('count', 'unknown')\n",
    "    print(f\"✓ total park properties: {total_parks}\")\n",
    "    \n",
    "except Exception as e:\n",
    "    print(f\"✗ error: {e}\")"
   ]
  },
  {
   "cell_type": "code",
   "execution_count": 8,
   "id": "0711f7c7-1851-4e6b-b3f5-1905f75b39cf",
   "metadata": {},
   "outputs": [
    {
     "name": "stdout",
     "output_type": "stream",
     "text": [
      "\n",
      "7. WEATHER DATA\n",
      "----------------------------------------\n",
      "✓ noaa api endpoint exists (needs token)\n",
      "  get free token at: https://www.ncdc.noaa.gov/cdo-web/token\n",
      "\n",
      "alternative: openweathermap\n",
      "  historical data available with paid plan\n",
      "  or use aggregated daily data from nyc open data\n"
     ]
    }
   ],
   "source": [
    "# Weather Data (if you have openweather key)\n",
    "print(\"\\n7. WEATHER DATA\")\n",
    "print(\"-\" * 40)\n",
    "\n",
    "# using openweather or noaa\n",
    "# for historical, noaa climate data online is free\n",
    "noaa_url = \"https://www.ncei.noaa.gov/cdo-web/api/v2/datasets\"\n",
    "\n",
    "try:\n",
    "    # noaa requires token, but we can test the endpoint\n",
    "    response = requests.get(noaa_url)\n",
    "    \n",
    "    if response.status_code == 400:\n",
    "        print(\"✓ noaa api endpoint exists (needs token)\")\n",
    "        print(\"  get free token at: https://www.ncdc.noaa.gov/cdo-web/token\")\n",
    "    else:\n",
    "        print(f\"⚠ unexpected response: {response.status_code}\")\n",
    "        \n",
    "    # alternative: use your openweather key for historical\n",
    "    print(\"\\nalternative: openweathermap\")\n",
    "    print(\"  historical data available with paid plan\")\n",
    "    print(\"  or use aggregated daily data from nyc open data\")\n",
    "    \n",
    "except Exception as e:\n",
    "    print(f\"✗ error: {e}\")\n"
   ]
  },
  {
   "cell_type": "code",
   "execution_count": 9,
   "id": "73dc5621-9618-426b-b8a4-0568df97e968",
   "metadata": {},
   "outputs": [
    {
     "name": "stdout",
     "output_type": "stream",
     "text": [
      "\n",
      "============================================================\n",
      "DATA ACCESS SUMMARY\n",
      "============================================================\n",
      "mta_ridership   ✓ working - hourly data 2020-2024\n",
      "mta_art         ✓ working - permanent collection catalog\n",
      "nasa_lights     ⚠ partial - may need earthdata account\n",
      "nyc_events      ✓ working - permitted events data\n",
      "noise_311       ✓ working - millions of complaints\n",
      "parks           ✓ working - with geometry\n",
      "weather         ⚠ needs api key (noaa or openweather)\n"
     ]
    }
   ],
   "source": [
    "# summary\n",
    "print(\"\\n\" + \"=\" * 60)\n",
    "print(\"DATA ACCESS SUMMARY\")\n",
    "print(\"=\" * 60)\n",
    "\n",
    "accessible = {\n",
    "    \"mta_ridership\": \"✓ working - hourly data 2020-2024\",\n",
    "    \"mta_art\": \"✓ working - permanent collection catalog\", \n",
    "    \"nasa_lights\": \"⚠ partial - may need earthdata account\",\n",
    "    \"nyc_events\": \"✓ working - permitted events data\",\n",
    "    \"noise_311\": \"✓ working - millions of complaints\",\n",
    "    \"parks\": \"✓ working - with geometry\",\n",
    "    \"weather\": \"⚠ needs api key (noaa or openweather)\"\n",
    "}\n",
    "\n",
    "for source, status in accessible.items():\n",
    "    print(f\"{source:15} {status}\")"
   ]
  },
  {
   "cell_type": "code",
   "execution_count": null,
   "id": "75ad0d87-a5d3-464e-9308-060dd5e149d3",
   "metadata": {},
   "outputs": [],
   "source": []
  }
 ],
 "metadata": {
  "kernelspec": {
   "display_name": ".venv",
   "language": "python",
   "name": ".venv"
  },
  "language_info": {
   "codemirror_mode": {
    "name": "ipython",
    "version": 3
   },
   "file_extension": ".py",
   "mimetype": "text/x-python",
   "name": "python",
   "nbconvert_exporter": "python",
   "pygments_lexer": "ipython3",
   "version": "3.11.13"
  }
 },
 "nbformat": 4,
 "nbformat_minor": 5
}
